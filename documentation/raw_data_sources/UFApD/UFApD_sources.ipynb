{
 "cells": [
  {
   "cell_type": "markdown",
   "metadata": {},
   "source": [
    "# Data source for years 1800-1980"
   ]
  },
  {
   "cell_type": "markdown",
   "metadata": {},
   "source": [
    "Bergsdal, Håvard & Brattebø, Helge & Bohne, Rolf André & Müller, Daniel. (2007). Dynamic material flow analysis for Norway's dwelling stock. Building Research & Information. 35. 557-570. 10.1080/09613210701287588. "
   ]
  },
  {
   "cell_type": "markdown",
   "metadata": {},
   "source": [
    "# Data source for years 1983-1999"
   ]
  },
  {
   "cell_type": "markdown",
   "metadata": {},
   "source": [
    "Statistisk Sentralbyrå: https://www.ssb.no/en/statbank/table/01751/"
   ]
  },
  {
   "cell_type": "markdown",
   "metadata": {},
   "source": [
    "# Data source for years 2000-2022"
   ]
  },
  {
   "cell_type": "markdown",
   "metadata": {},
   "source": [
    "Statistisk Sentralbyrå: https://www.ssb.no/en/statbank/table/05940/ "
   ]
  }
 ],
 "metadata": {
  "language_info": {
   "name": "python"
  }
 },
 "nbformat": 4,
 "nbformat_minor": 2
}
