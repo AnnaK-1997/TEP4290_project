{
 "cells": [
  {
   "cell_type": "markdown",
   "metadata": {},
   "source": [
    "# Data source for years 1735-2023"
   ]
  },
  {
   "cell_type": "markdown",
   "metadata": {},
   "source": [
    "Statistisk Sentralbyrå:\n",
    "https://www.ssb.no/statbank/table/05803/"
   ]
  },
  {
   "cell_type": "markdown",
   "metadata": {},
   "source": [
    "# Data source for years 1600, 1650"
   ]
  },
  {
   "cell_type": "markdown",
   "metadata": {},
   "source": [
    "Örjan Martinsson at Tacitus Historical Atlas: https://www.tacitus.nu/historical-atlas/population/scandinavia.htm"
   ]
  }
 ],
 "metadata": {
  "language_info": {
   "name": "python"
  }
 },
 "nbformat": 4,
 "nbformat_minor": 2
}
