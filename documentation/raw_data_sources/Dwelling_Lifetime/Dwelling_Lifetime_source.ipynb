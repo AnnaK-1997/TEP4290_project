{
 "cells": [
  {
   "cell_type": "markdown",
   "metadata": {},
   "source": [
    "# Data Source for Dwelling Lifetime"
   ]
  },
  {
   "cell_type": "markdown",
   "metadata": {},
   "source": [
    "Bergsdal, Håvard & Brattebø, Helge & Bohne, Rolf André & Müller, Daniel. (2007). Dynamic material flow analysis for Norway's dwelling stock. Building Research & Information. 35. 557-570. 10.1080/09613210701287588. "
   ]
  }
 ],
 "metadata": {
  "language_info": {
   "name": "python"
  }
 },
 "nbformat": 4,
 "nbformat_minor": 2
}
