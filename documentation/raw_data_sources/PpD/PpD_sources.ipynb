{
 "cells": [
  {
   "cell_type": "markdown",
   "metadata": {},
   "source": [
    "# Data source for years 1800-1900"
   ]
  },
  {
   "cell_type": "markdown",
   "metadata": {},
   "source": [
    "Bergsdal, Håvard & Brattebø, Helge & Bohne, Rolf André & Müller, Daniel. (2007). Dynamic material flow analysis for Norway's dwelling stock. Building Research & Information. 35. 557-570. 10.1080/09613210701287588. "
   ]
  },
  {
   "cell_type": "markdown",
   "metadata": {},
   "source": [
    "# Data source for years 1920-1990"
   ]
  },
  {
   "cell_type": "markdown",
   "metadata": {},
   "source": [
    "Statistisk Sentralbyrå: https://www.ssb.no/statbank/table/05883"
   ]
  },
  {
   "cell_type": "markdown",
   "metadata": {},
   "source": [
    "# Data source for years 2001-2023"
   ]
  },
  {
   "cell_type": "markdown",
   "metadata": {},
   "source": [
    "Statistisk Sentralbyrå: https://www.ssb.no/statbank/table/06076"
   ]
  }
 ],
 "metadata": {
  "language_info": {
   "name": "python"
  }
 },
 "nbformat": 4,
 "nbformat_minor": 2
}
