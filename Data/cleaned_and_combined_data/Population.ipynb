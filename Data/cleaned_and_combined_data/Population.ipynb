import pandas as pd
import numpy as np

# File paths
file1 = "norway_population 1600-1650.xlsx"
file2 = "norway_population 1735-2023.xlsx"
file3 = "norway_population 1980-2060.xlsx"

# Read the first and third Excel files
df1 = pd.read_excel(file1)
df2 = pd.read_excel(file2)
df3 = pd.read_excel(file3)

# Creating 'Population' column for projections in df3
df3_projections = df3[df3['Year'] >= 2023][['Year', 'Main option (MMM)', 'Low national growth (LLL)', 'High national growth (HHH)']]
df3_projections['Population'] = df3_projections[['Main option (MMM)', 'Low national growth (LLL)', 'High national growth (HHH)']].mean(axis=1)

# Keeping only 'Year' and 'Population' columns for df3
df3 = pd.concat([df3[df3['Year'] < 2023][['Year', 'Population']], df3_projections[['Year', 'Population']]])

# Concatenate the dataframes
merged_df = pd.concat([df1, df2, df3[['Year', 'Population']]])

# Drop any duplicates and sort by year
merged_df.drop_duplicates(subset='Year', keep='last', inplace=True)
merged_df.sort_values(by='Year', inplace=True)
merged_df.reset_index(drop=True, inplace=True)

# Save the merged dataframe to a new Excel file
output_file = "merged_norway_population.xlsx"
merged_df.to_excel(output_file, index=False)

# Output file path for user download
output_file
