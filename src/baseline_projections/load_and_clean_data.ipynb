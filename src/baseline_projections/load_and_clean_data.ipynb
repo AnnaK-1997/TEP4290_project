{
 "cells": [
  {
   "cell_type": "code",
   "execution_count": null,
   "metadata": {},
   "outputs": [],
   "source": [
    "'''_In this script, we ..._'''"
   ]
  },
  {
   "cell_type": "code",
   "execution_count": null,
   "metadata": {},
   "outputs": [],
   "source": [
    "# -*- coding: utf-8 -*- #\n",
    "# Authors: gracecaj@stud.ntnu.no, sbaarak@stud.ntnu.no, & annakale@stud.ntnu.no\n",
    "# Date: 19/09/2023"
   ]
  },
  {
   "cell_type": "code",
   "execution_count": 4,
   "metadata": {},
   "outputs": [],
   "source": [
    "#%%\n",
    "#* Import the code needed\n",
    "import os\n",
    "import pandas as pd\n",
    "from pathlib import Path"
   ]
  },
  {
   "cell_type": "code",
   "execution_count": 7,
   "metadata": {},
   "outputs": [],
   "source": [
    "#%%\n",
    "#* Define paths\n",
    "directory_path = Path('../../')"
   ]
  },
  {
   "cell_type": "markdown",
   "metadata": {},
   "source": [
    "# Import all the raw datasets"
   ]
  },
  {
   "cell_type": "code",
   "execution_count": 13,
   "metadata": {},
   "outputs": [
    {
     "name": "stdout",
     "output_type": "stream",
     "text": [
      "      Population\n",
      "Year            \n",
      "1600      400000\n",
      "1650      450000\n",
      "                                                              Unnamed: 1\n",
      "05803: Endringer i befolkningen i løpet av året...                      \n",
      "NaN                                                                  NaN\n",
      "Year                                                Befolkning 1. januar\n",
      "1735                                                              616109\n",
      "1736                                                              622197\n",
      "1737                                                              626986\n",
      "...                                                                  ...\n",
      "Database:                                                            NaN\n",
      "Ekstern PRODUKSJON                                                   NaN\n",
      "NaN                                                                  NaN\n",
      "Intern referansekode:                                                NaN\n",
      "Personer                                                             NaN\n",
      "\n",
      "[337 rows x 1 columns]\n",
      "      Folketall  Hovedalternativ (MMM)  Lav nasjonal vekst (LLL)  \\\n",
      "År                                                                 \n",
      "1980  4078900.0                    NaN                       NaN   \n",
      "1981  4092340.0                    NaN                       NaN   \n",
      "1982  4107063.0                    NaN                       NaN   \n",
      "1983  4122511.0                    NaN                       NaN   \n",
      "1984  4134353.0                    NaN                       NaN   \n",
      "...         ...                    ...                       ...   \n",
      "2056        NaN              6080222.0                 5270975.0   \n",
      "2057        NaN              6086000.0                 5248581.0   \n",
      "2058        NaN              6091372.0                 5224861.0   \n",
      "2059        NaN              6096426.0                 5200732.0   \n",
      "2060        NaN              6101191.0                 5175762.0   \n",
      "\n",
      "      Høy nasjonal vekst (HHH)  \n",
      "År                              \n",
      "1980                       NaN  \n",
      "1981                       NaN  \n",
      "1982                       NaN  \n",
      "1983                       NaN  \n",
      "1984                       NaN  \n",
      "...                        ...  \n",
      "2056                 6918978.0  \n",
      "2057                 6960334.0  \n",
      "2058                 7002244.0  \n",
      "2059                 7044668.0  \n",
      "2060                 7087564.0  \n",
      "\n",
      "[81 rows x 4 columns]\n"
     ]
    }
   ],
   "source": [
    "#%%\n",
    "#* Import all population datasets (READY)\n",
    "\n",
    "population_1600s = pd.read_excel(\n",
    "    directory_path / 'data' / 'raw_data' / 'Population' / 'raw_pop_1600_1650.xlsx',\n",
    "    index_col=0)\n",
    "\n",
    "population_time_series = pd.read_excel(\n",
    "    directory_path / 'data' / 'raw_data' / 'Population' / 'raw_pop_1735_2023.xlsx',\n",
    "    index_col=0)\n",
    "\n",
    "population_projections = pd.read_excel(\n",
    "    directory_path / 'data' / 'raw_data' / 'Population' / 'norway_pop_projections.xlsx',\n",
    "    index_col=0)\n",
    "\n",
    "#* Display datasets to check how their structure look\n",
    "print(population_1600s)\n",
    "print(population_time_series)\n",
    "print(population_projections)"
   ]
  },
  {
   "cell_type": "code",
   "execution_count": 14,
   "metadata": {},
   "outputs": [
    {
     "name": "stdout",
     "output_type": "stream",
     "text": [
      "                                                                        Unnamed: 1\n",
      "06076: Privathusholdninger og personer i privat...                                \n",
      "NaN                                                                            NaN\n",
      "NaN                                                 Personer per privathusholdning\n",
      "1960                                                                          3.27\n",
      "1970                                                                          2.94\n",
      "1980                                                                          2.66\n",
      "...                                                                            ...\n",
      "Database:                                                                      NaN\n",
      "Ekstern PRODUKSJON                                                             NaN\n",
      "NaN                                                                            NaN\n",
      "Intern referansekode:                                                          NaN\n",
      "PersonerPerHushold                                                             NaN\n",
      "\n",
      "[71 rows x 1 columns]\n",
      "                                                                  Unnamed: 1\n",
      "05883: Personer i privathusholdninger, etter år...                          \n",
      "NaN                                                                      NaN\n",
      "Year                                                Personer per husholdning\n",
      "1920                                                                     4.3\n",
      "1930                                                                    3.98\n",
      "1946                                                                    3.36\n",
      "1950                                                                    3.25\n",
      "1960                                                                    3.27\n",
      "1970                                                                    2.94\n",
      "1980                                                                    2.66\n",
      "1990                                                                     2.4\n",
      "NaN                                                                      NaN\n",
      "NaN                                                                      NaN\n",
      "Sist endret:                                                             NaN\n",
      "Personer per husholdning:                                                NaN\n",
      "20051205 10:00                                                           NaN\n",
      "NaN                                                                      NaN\n",
      "Kilde:                                                                   NaN\n",
      "Statistisk sentralbyrå                                                   NaN\n",
      "NaN                                                                      NaN\n",
      "Kontakt:                                                                 NaN\n",
      "Personer per husholdning:                                                NaN\n",
      "Espen Andersen, Statistisk sentralbyrå                                   NaN\n",
      " +47 92 61 00 46                                                         NaN\n",
      "esa@ssb.no                                                               NaN\n",
      "NaN                                                                      NaN\n",
      "Kåre Vassenden, Statistisk sentralbyrå                                   NaN\n",
      " +47 6288 5294                                                           NaN\n",
      "kva@ssb.no                                                               NaN\n",
      "NaN                                                                      NaN\n",
      "NaN                                                                      NaN\n",
      "NaN                                                                      NaN\n",
      "NaN                                                                      NaN\n",
      "Måleenhet:                                                               NaN\n",
      "Personer per husholdning:                                                NaN\n",
      "personer                                                                 NaN\n",
      "Målemetode:                                                              NaN\n",
      "Personer per husholdning:                                                NaN\n",
      "Situasjon (tidspunkt)                                                    NaN\n",
      "NaN                                                                      NaN\n",
      "Referansetid:                                                            NaN\n",
      "Personer per husholdning                                                 NaN\n",
      "31.12.                                                                   NaN\n",
      "NaN                                                                      NaN\n",
      "NaN                                                                      NaN\n",
      "NaN                                                                      NaN\n",
      "NaN                                                                      NaN\n",
      "NaN                                                                      NaN\n",
      "Offisiell statistikk                                                     NaN\n",
      "NaN                                                                      NaN\n",
      "Database:                                                                NaN\n",
      "Ekstern PRODUKSJON                                                       NaN\n",
      "NaN                                                                      NaN\n",
      "Intern referansekode:                                                    NaN\n",
      "ProsentB                                                                 NaN\n",
      "      PpD\n",
      "Year     \n",
      "1801  5.4\n",
      "1874  4.7\n",
      "1900  4.3\n"
     ]
    }
   ],
   "source": [
    "#%%\n",
    "#* Import all PpD datasets\n",
    "\n",
    "PpD_2000s = pd.read_excel(\n",
    "    directory_path / 'data' / 'raw_data' / 'PpD' / 'raw_PpD_2000s.xlsx',\n",
    "    index_col=0)\n",
    "\n",
    "PpD_1900s = pd.read_excel(\n",
    "    directory_path / 'data' / 'raw_data' / 'PpD' / 'raw_PpD_1900s.xlsx',\n",
    "    index_col=0)\n",
    "\n",
    "PpD_1800s = pd.read_excel(\n",
    "    directory_path / 'data' / 'raw_data' / 'PpD' / 'raw_PpD_1800_1900.xlsx',\n",
    "    index_col=0)\n",
    "\n",
    "#* Display datasets to check how their structure look\n",
    "print(PpD_2000s)\n",
    "print(PpD_1900s)\n",
    "print(PpD_1800s)"
   ]
  },
  {
   "cell_type": "code",
   "execution_count": 9,
   "metadata": {},
   "outputs": [
    {
     "name": "stdout",
     "output_type": "stream",
     "text": [
      "                                                                                           Unnamed: 1\n",
      "05940: Dwellings and utility floor space in dwe...                                                   \n",
      "NaN                                                                                               NaN\n",
      "Year                                                Buildings completed. Utility floor space in dw...\n",
      "2000                                                                                          2822964\n",
      "2001                                                                                          3248573\n",
      "2002                                                                                          2900239\n",
      "...                                                                                               ...\n",
      "Database:                                                                                         NaN\n",
      "External PROD                                                                                     NaN\n",
      "NaN                                                                                               NaN\n",
      "Internal reference code:                                                                          NaN\n",
      "BruksarealFullfort                                                                                NaN\n",
      "\n",
      "[70 rows x 1 columns]\n",
      "                                                                                           Unnamed: 1\n",
      "01751: Dwellings and utility floor space in dwe...                                                   \n",
      "NaN                                                                                               NaN\n",
      "Year                                                Buildings completed. Utility floor space in dw...\n",
      "1983                                                                                          5151242\n",
      "1984                                                                                          5068889\n",
      "1985                                                                                          4688747\n",
      "...                                                                                               ...\n",
      "Database:                                                                                         NaN\n",
      "External PROD                                                                                     NaN\n",
      "NaN                                                                                               NaN\n",
      "Internal reference code:                                                                          NaN\n",
      "Bruksareal4                                                                                       NaN\n",
      "\n",
      "[64 rows x 1 columns]\n",
      "      UFApD\n",
      "Year       \n",
      "1800   49.5\n",
      "1850   51.8\n",
      "1900   53.0\n",
      "1938   57.2\n",
      "1960   71.9\n",
      "1973   87.9\n",
      "1980  107.3\n"
     ]
    }
   ],
   "source": [
    "#%%\n",
    "#* Import all UFApD datasets (READY)\n",
    "\n",
    "UFApD_2000s = pd.read_excel(\n",
    "    directory_path / 'data' / 'raw_data' / 'UFApD' / 'raw_UFApD_2000s.xlsx',\n",
    "    index_col=0)\n",
    "\n",
    "UFApD_80s_90s = pd.read_excel(\n",
    "    directory_path / 'data' / 'raw_data' / 'UFApD' / 'raw_UFApD_1983_1999.xlsx',\n",
    "    index_col=0)\n",
    "\n",
    "UFApD_1800_thru_1980 = pd.read_excel(\n",
    "    directory_path / 'data' / 'raw_data' / 'UFApD' / 'raw_UFApD_1800_1980.xlsx',\n",
    "    index_col=0)\n",
    "\n",
    "#* Display datasets to check how their structure look\n",
    "print(UFApD_2000s)\n",
    "print(UFApD_80s_90s)\n",
    "print(UFApD_1800_thru_1980)"
   ]
  },
  {
   "cell_type": "code",
   "execution_count": null,
   "metadata": {},
   "outputs": [],
   "source": [
    "#%%\n",
    "#? Import all Dwelling Lifetime datasets (might not be needed)"
   ]
  },
  {
   "cell_type": "code",
   "execution_count": null,
   "metadata": {},
   "outputs": [],
   "source": [
    "#%%\n",
    "#* Import all Energy Intensity datasets"
   ]
  },
  {
   "cell_type": "code",
   "execution_count": null,
   "metadata": {},
   "outputs": [],
   "source": [
    "#%%\n",
    "#* Import all Carbon Intensity datasets"
   ]
  },
  {
   "cell_type": "code",
   "execution_count": null,
   "metadata": {},
   "outputs": [],
   "source": [
    "#%%\n",
    "#* Import all Type Split datasets\n",
    "\n",
    "type_split = pd.read_excel(\n",
    "    directory_path / 'Data' / 'raw_data' / 'raw_type_split.xlsx',\n",
    "    index_col='Year')\n",
    "\n",
    "#* Display datasets to check how their structure look\n",
    "print(type_split)"
   ]
  },
  {
   "cell_type": "code",
   "execution_count": null,
   "metadata": {},
   "outputs": [],
   "source": [
    "#%%\n",
    "#* Import all Renovation datasets"
   ]
  },
  {
   "cell_type": "markdown",
   "metadata": {},
   "source": [
    "# Clean the datasets as necessary"
   ]
  },
  {
   "cell_type": "code",
   "execution_count": null,
   "metadata": {},
   "outputs": [],
   "source": [
    "#* Cleaning"
   ]
  },
  {
   "cell_type": "code",
   "execution_count": null,
   "metadata": {},
   "outputs": [],
   "source": [
    "#* Cleaning"
   ]
  },
  {
   "cell_type": "markdown",
   "metadata": {},
   "source": [
    "# Combine the datasets into one per parameter"
   ]
  },
  {
   "cell_type": "code",
   "execution_count": null,
   "metadata": {},
   "outputs": [],
   "source": [
    "#%%\n",
    "#* Combine the population datasets into one"
   ]
  },
  {
   "cell_type": "markdown",
   "metadata": {},
   "source": [
    "# Export the new datasets into the cleaned and combined data folder"
   ]
  },
  {
   "cell_type": "code",
   "execution_count": null,
   "metadata": {},
   "outputs": [],
   "source": []
  }
 ],
 "metadata": {
  "kernelspec": {
   "display_name": "TEP4221",
   "language": "python",
   "name": "python3"
  },
  "language_info": {
   "codemirror_mode": {
    "name": "ipython",
    "version": 3
   },
   "file_extension": ".py",
   "mimetype": "text/x-python",
   "name": "python",
   "nbconvert_exporter": "python",
   "pygments_lexer": "ipython3",
   "version": "3.8.16"
  }
 },
 "nbformat": 4,
 "nbformat_minor": 2
}
