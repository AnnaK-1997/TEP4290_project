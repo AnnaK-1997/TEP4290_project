{
 "cells": [
  {
   "cell_type": "code",
   "execution_count": null,
   "metadata": {},
   "outputs": [],
   "source": [
    "'''_In this script, we ..._'''"
   ]
  },
  {
   "cell_type": "code",
   "execution_count": null,
   "metadata": {},
   "outputs": [],
   "source": [
    "# -*- coding: utf-8 -*- #\n",
    "# Authors: gracecaj@stud.ntnu.no, sbaarak@stud.ntnu.no, & annakale@stud.ntnu.no\n",
    "# Date: 19/09/2023"
   ]
  },
  {
   "cell_type": "code",
   "execution_count": null,
   "metadata": {},
   "outputs": [],
   "source": [
    "#%%\n",
    "#* Import the code needed\n",
    "import os\n",
    "from pathlib import Path"
   ]
  },
  {
   "cell_type": "code",
   "execution_count": null,
   "metadata": {},
   "outputs": [],
   "source": [
    "#%%\n",
    "#* Define paths\n",
    "directory_path = Path('../../')"
   ]
  },
  {
   "cell_type": "code",
   "execution_count": null,
   "metadata": {},
   "outputs": [],
   "source": [
    "#%%\n",
    "#* Import all population datasets\n",
    "\n",
    "population_1600s = pd.read_csv(\n",
    "    directory_path / 'Data' / 'CLRTAP_Full' / 'CLRTAP.csv',\n",
    "    sep='\\t',\n",
    "    index_col=[0, 1])\n",
    "\n",
    "population_time_series = pd.read_csv(\n",
    "    directory_path / 'Data' / 'CLRTAP_Full' / 'CLRTAP.csv',\n",
    "    sep='\\t',\n",
    "    index_col=[0, 1])\n",
    "\n",
    "population_projections = pd.read_csv(\n",
    "    directory_path / 'Data' / 'CLRTAP_Full' / 'CLRTAP.csv',\n",
    "    sep='\\t',\n",
    "    index_col=[0, 1])"
   ]
  }
 ],
 "metadata": {
  "kernelspec": {
   "display_name": "TEP4221",
   "language": "python",
   "name": "python3"
  },
  "language_info": {
   "name": "python",
   "version": "3.8.16"
  }
 },
 "nbformat": 4,
 "nbformat_minor": 2
}
